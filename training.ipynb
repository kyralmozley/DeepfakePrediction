{
 "cells": [
  {
   "cell_type": "markdown",
   "id": "a87e7237",
   "metadata": {},
   "source": [
    "# This Notebook \n",
    "- gets the data in the right format\n",
    "- splits it into \n",
    "    - train the NN\n",
    "    - train the [insert chosen classifier here (SVM, Random Forest, KNN, NN?)] on the NN predictions\n",
    "    - test the whole network\n",
    "- full testing requires cleaning more data\n",
    "\n",
    "## Import Requirements"
   ]
  },
  {
   "cell_type": "code",
   "execution_count": 230,
   "id": "d6066e5e",
   "metadata": {},
   "outputs": [],
   "source": [
    "import pandas as pd\n",
    "import numpy as np\n",
    "import glob\n",
    "import matplotlib.pyplot as plt\n",
    "import seaborn as sns\n",
    "sns.set()\n",
    "from math import *\n",
    "import pprint\n",
    "\n",
    "from sklearn import svm\n",
    "from sklearn.svm import SVR\n",
    "from sklearn import metrics\n",
    "from sklearn.metrics import accuracy_score  \n",
    "from sklearn.model_selection import train_test_split\n",
    "from sklearn.ensemble import RandomForestClassifier\n",
    "from sklearn.metrics import confusion_matrix\n",
    "\n",
    "import tensorflow\n",
    "from tensorflow.keras.datasets import mnist\n",
    "from tensorflow.keras.models import Sequential\n",
    "from tensorflow.keras.layers import Dense, Dropout\n",
    "from tensorflow.keras.utils import to_categorical\n",
    "from keras.models import load_model\n",
    "from keras.callbacks import EarlyStopping\n"
   ]
  },
  {
   "cell_type": "markdown",
   "id": "32643f09",
   "metadata": {},
   "source": [
    "# Import Dataset"
   ]
  },
  {
   "cell_type": "code",
   "execution_count": 167,
   "id": "9e2856fd",
   "metadata": {},
   "outputs": [],
   "source": [
    "path = 'dataset/distance'\n",
    "all_files = glob.glob(path+'/*.csv')+glob.glob(path+'/real/*.csv')\n",
    "df = pd.concat(pd.read_csv(f, index_col=['filename', 'frame']) for f in all_files)"
   ]
  },
  {
   "cell_type": "code",
   "execution_count": 168,
   "id": "05b1db3b",
   "metadata": {},
   "outputs": [],
   "source": [
    "cols = df.columns"
   ]
  },
  {
   "cell_type": "markdown",
   "id": "878cdd40",
   "metadata": {},
   "source": [
    "# Split Data"
   ]
  },
  {
   "cell_type": "code",
   "execution_count": 169,
   "id": "942d3baf",
   "metadata": {},
   "outputs": [],
   "source": [
    "landmark_cols = ['landmark_{}'.format(i) for i in range(68)]"
   ]
  },
  {
   "cell_type": "code",
   "execution_count": 170,
   "id": "6fd93fca",
   "metadata": {},
   "outputs": [],
   "source": [
    "df = df.sort_values(by=['filename', 'frame']).reset_index()"
   ]
  },
  {
   "cell_type": "code",
   "execution_count": 171,
   "id": "6c197f3a",
   "metadata": {},
   "outputs": [
    {
     "data": {
      "text/plain": [
       "<AxesSubplot:ylabel='label'>"
      ]
     },
     "execution_count": 171,
     "metadata": {},
     "output_type": "execute_result"
    },
    {
     "data": {
      "image/png": "[encoded data removed]",
      "text/plain": [
       "<Figure size 432x288 with 1 Axes>"
      ]
     },
     "metadata": {},
     "output_type": "display_data"
    }
   ],
   "source": [
    "df.groupby(['label']).count()['filename'].plot(kind='barh')"
   ]
  },
  {
   "cell_type": "code",
   "execution_count": 403,
   "id": "0c133e96",
   "metadata": {},
   "outputs": [],
   "source": [
    "# Split Files\n",
    "# -- svm input 300 frames\n",
    "# 40%:50%:10% -> 74.3overall, 67NN\n",
    "# 20:70:10 -> 73 67NN\n",
    "# -- svm input stats\n",
    "# 20:70 -> 71\n",
    "files = df.groupby('filename').size()\n",
    "total_files = len(files)\n",
    "nn_split = files.index[int(0.5*total_files)]\n",
    "classifier_split = files.index[int(0.9*total_files)]\n"
   ]
  },
  {
   "cell_type": "code",
   "execution_count": 404,
   "id": "ab5f1698",
   "metadata": {},
   "outputs": [],
   "source": [
    "split_index_1 = df.loc[(df['filename']==nn_split)].head(1).index[0]\n",
    "split_index_2 = df.loc[(df['filename']==classifier_split)].head(1).index[0]"
   ]
  },
  {
   "cell_type": "code",
   "execution_count": 405,
   "id": "c4476b10",
   "metadata": {},
   "outputs": [],
   "source": [
    "df_mlp = df[:split_index_1]\n",
    "df_mlp_predict = df[split_index_1:split_index_2:]\n",
    "df_val = df[split_index_2::]"
   ]
  },
  {
   "cell_type": "code",
   "execution_count": 378,
   "id": "72aa9aa9",
   "metadata": {},
   "outputs": [
    {
     "data": {
      "text/plain": [
       "<AxesSubplot:ylabel='label'>"
      ]
     },
     "execution_count": 378,
     "metadata": {},
     "output_type": "execute_result"
    },
    {
     "data": {
      "image/png": "[encoded data removed]",
      "text/plain": [
       "<Figure size 432x288 with 1 Axes>"
      ]
     },
     "metadata": {},
     "output_type": "display_data"
    }
   ],
   "source": [
    "df_mlp.groupby(['label']).count()['filename'].plot(kind='barh')"
   ]
  },
  {
   "cell_type": "code",
   "execution_count": 379,
   "id": "cc85d95b",
   "metadata": {},
   "outputs": [
    {
     "data": {
      "text/plain": [
       "<AxesSubplot:ylabel='label'>"
      ]
     },
     "execution_count": 379,
     "metadata": {},
     "output_type": "execute_result"
    },
    {
     "data": {
      "image/png": "[encoded data removed]",
      "text/plain": [
       "<Figure size 432x288 with 1 Axes>"
      ]
     },
     "metadata": {},
     "output_type": "display_data"
    }
   ],
   "source": [
    "df_mlp_predict.groupby(['label']).count()['filename'].plot(kind='barh')"
   ]
  },
  {
   "cell_type": "code",
   "execution_count": 406,
   "id": "ff53a3d3",
   "metadata": {},
   "outputs": [
    {
     "name": "stdout",
     "output_type": "stream",
     "text": [
      "(2311065, 68) (2311065,)\n",
      "(1850709, 68) (6224,)\n",
      "(462660, 68) (1557,)\n"
     ]
    },
    {
     "name": "stderr",
     "output_type": "stream",
     "text": [
      "/tmp/ipykernel_4364/1417720538.py:12: SettingWithCopyWarning: \n",
      "A value is trying to be set on a copy of a slice from a DataFrame.\n",
      "Try using .loc[row_indexer,col_indexer] = value instead\n",
      "\n",
      "See the caveats in the documentation: https://pandas.pydata.org/pandas-docs/stable/user_guide/indexing.html#returning-a-view-versus-a-copy\n",
      "  df_mlp_predict['binary_label'] = np.vectorize(labels.get)(y_classifier)\n",
      "/tmp/ipykernel_4364/1417720538.py:16: SettingWithCopyWarning: \n",
      "A value is trying to be set on a copy of a slice from a DataFrame.\n",
      "Try using .loc[row_indexer,col_indexer] = value instead\n",
      "\n",
      "See the caveats in the documentation: https://pandas.pydata.org/pandas-docs/stable/user_guide/indexing.html#returning-a-view-versus-a-copy\n",
      "  df_val['binary_label'] = np.vectorize(labels.get)(y_val)\n"
     ]
    }
   ],
   "source": [
    "X_nn = df_mlp[landmark_cols].to_numpy()\n",
    "X_classifier = df_mlp_predict[landmark_cols].to_numpy()\n",
    "X_val = df_val[landmark_cols].to_numpy()\n",
    "\n",
    "#convert real/fake to numbers\n",
    "labels = {\"REAL\":0, \"FAKE\":1}\n",
    "y_nn = df_mlp['label'].to_numpy()\n",
    "y_nn=np.vectorize(labels.get)(y_nn)\n",
    "\n",
    "\n",
    "y_classifier = df_mlp_predict['label'].to_numpy()\n",
    "df_mlp_predict['binary_label'] = np.vectorize(labels.get)(y_classifier)\n",
    "y_classifier = np.array(list(df_mlp_predict.groupby(['filename']).binary_label.max()))\n",
    "\n",
    "y_val = df_val['label'].to_numpy()\n",
    "df_val['binary_label'] = np.vectorize(labels.get)(y_val)\n",
    "y_val = np.array(list(df_val.groupby(['filename']).binary_label.max()))\n",
    "\n",
    "print(X_nn.shape, y_nn.shape)\n",
    "print(X_classifier.shape, y_classifier.shape)\n",
    "print(X_val.shape, y_val.shape)"
   ]
  },
  {
   "cell_type": "markdown",
   "id": "477ab1d7",
   "metadata": {},
   "source": [
    "# Create Neural Net"
   ]
  },
  {
   "cell_type": "code",
   "execution_count": 407,
   "id": "05931792",
   "metadata": {},
   "outputs": [
    {
     "name": "stdout",
     "output_type": "stream",
     "text": [
      "Feature Shape: (68,)\n"
     ]
    }
   ],
   "source": [
    "feature_vector_length = 68\n",
    "num_classes = 2\n",
    "input_shape = (feature_vector_length, )\n",
    "print(f'Feature Shape: {input_shape}')"
   ]
  },
  {
   "cell_type": "code",
   "execution_count": 408,
   "id": "eeed8b1c",
   "metadata": {},
   "outputs": [],
   "source": [
    "Y_train = to_categorical(y_nn, num_classes)"
   ]
  },
  {
   "cell_type": "code",
   "execution_count": 409,
   "id": "60943976",
   "metadata": {},
   "outputs": [],
   "source": [
    "es = EarlyStopping(monitor='val_loss', mode='min', verbose=1, patience=3, restore_best_weights=True)"
   ]
  },
  {
   "cell_type": "code",
   "execution_count": 410,
   "id": "10465eeb",
   "metadata": {},
   "outputs": [
    {
     "name": "stdout",
     "output_type": "stream",
     "text": [
      "Epoch 1/15\n",
      "28889/28889 [==============================] - 70s 2ms/step - loss: 0.1170 - accuracy: 0.5849 - val_loss: 0.1153 - val_accuracy: 0.5869\n",
      "Epoch 2/15\n",
      "28889/28889 [==============================] - 75s 3ms/step - loss: 0.1148 - accuracy: 0.5964 - val_loss: 0.1142 - val_accuracy: 0.6013\n",
      "Epoch 3/15\n",
      "28889/28889 [==============================] - 76s 3ms/step - loss: 0.1145 - accuracy: 0.5991 - val_loss: 0.1139 - val_accuracy: 0.6068\n",
      "Epoch 4/15\n",
      "28889/28889 [==============================] - 75s 3ms/step - loss: 0.1142 - accuracy: 0.6009 - val_loss: 0.1148 - val_accuracy: 0.5962\n",
      "Epoch 5/15\n",
      "28889/28889 [==============================] - 73s 3ms/step - loss: 0.1140 - accuracy: 0.6033 - val_loss: 0.1139 - val_accuracy: 0.6078\n",
      "Epoch 6/15\n",
      "28889/28889 [==============================] - 72s 2ms/step - loss: 0.1139 - accuracy: 0.6027 - val_loss: 0.1138 - val_accuracy: 0.6046\n",
      "Epoch 7/15\n",
      "28889/28889 [==============================] - 69s 2ms/step - loss: 0.1138 - accuracy: 0.6044 - val_loss: 0.1142 - val_accuracy: 0.5982\n",
      "Epoch 8/15\n",
      "28889/28889 [==============================] - 75s 3ms/step - loss: 0.1136 - accuracy: 0.6052 - val_loss: 0.1135 - val_accuracy: 0.6097\n",
      "Epoch 9/15\n",
      "28889/28889 [==============================] - 71s 2ms/step - loss: 0.1136 - accuracy: 0.6058 - val_loss: 0.1130 - val_accuracy: 0.6137\n",
      "Epoch 10/15\n",
      "28889/28889 [==============================] - 67s 2ms/step - loss: 0.1135 - accuracy: 0.6068 - val_loss: 0.1130 - val_accuracy: 0.6138\n",
      "Epoch 11/15\n",
      "28889/28889 [==============================] - 73s 3ms/step - loss: 0.1134 - accuracy: 0.6069 - val_loss: 0.1135 - val_accuracy: 0.6119\n",
      "Epoch 12/15\n",
      "28889/28889 [==============================] - 71s 2ms/step - loss: 0.1134 - accuracy: 0.6072 - val_loss: 0.1132 - val_accuracy: 0.6131\n",
      "Epoch 13/15\n",
      "28877/28889 [============================>.] - ETA: 0s - loss: 0.1133 - accuracy: 0.6077Restoring model weights from the end of the best epoch: 10.\n",
      "28889/28889 [==============================] - 71s 2ms/step - loss: 0.1133 - accuracy: 0.6076 - val_loss: 0.1135 - val_accuracy: 0.6118\n",
      "Epoch 00013: early stopping\n"
     ]
    }
   ],
   "source": [
    "model = Sequential()\n",
    "model.add(Dense(128, input_shape=input_shape, activation='relu'))\n",
    "model.add(Dense(32, activation='relu'))\n",
    "model.add(Dropout(0.2))\n",
    "model.add(Dense(16, activation='relu'))\n",
    "model.add(Dropout(0.2))\n",
    "model.add(Dense(8, activation='relu'))\n",
    "model.add(Dropout(0.2))\n",
    "model.add(Dense(num_classes, activation='softmax'))\n",
    "\n",
    "model.compile(loss='msle', optimizer='adam', metrics=['accuracy'])\n",
    "history = model.fit(X_nn, Y_train, epochs=15, batch_size=64, verbose=1, validation_split=0.2, callbacks=[es])"
   ]
  },
  {
   "cell_type": "code",
   "execution_count": 411,
   "id": "6ac6dde5",
   "metadata": {},
   "outputs": [],
   "source": [
    "model.save('model.h5')"
   ]
  },
  {
   "cell_type": "code",
   "execution_count": 412,
   "id": "6e8c346b",
   "metadata": {},
   "outputs": [
    {
     "name": "stdout",
     "output_type": "stream",
     "text": [
      "57835/57835 [==============================] - 62s 1ms/step\n"
     ]
    }
   ],
   "source": [
    "predicted = model.predict(X_classifier, verbose=1)"
   ]
  },
  {
   "cell_type": "code",
   "execution_count": 413,
   "id": "a961fc1d",
   "metadata": {},
   "outputs": [
    {
     "name": "stderr",
     "output_type": "stream",
     "text": [
      "/tmp/ipykernel_4364/1655737660.py:1: SettingWithCopyWarning: \n",
      "A value is trying to be set on a copy of a slice from a DataFrame.\n",
      "Try using .loc[row_indexer,col_indexer] = value instead\n",
      "\n",
      "See the caveats in the documentation: https://pandas.pydata.org/pandas-docs/stable/user_guide/indexing.html#returning-a-view-versus-a-copy\n",
      "  df_mlp_predict['prediction'] = predicted[:,1]\n"
     ]
    }
   ],
   "source": [
    "df_mlp_predict['prediction'] = predicted[:,1]"
   ]
  },
  {
   "cell_type": "code",
   "execution_count": 414,
   "id": "5f3b6053",
   "metadata": {},
   "outputs": [
    {
     "data": {
      "text/plain": [
       "0.6089482463207344"
      ]
     },
     "execution_count": 414,
     "metadata": {},
     "output_type": "execute_result"
    }
   ],
   "source": [
    "accuracy_score(df_mlp_predict.binary_label, np.round(predicted[:,1], 0))"
   ]
  },
  {
   "cell_type": "code",
   "execution_count": 388,
   "id": "159b5d3f",
   "metadata": {},
   "outputs": [
    {
     "data": {
      "text/plain": [
       "Text(0, 0.5, 'Prediction (0=Real, 1=Fake)')"
      ]
     },
     "execution_count": 388,
     "metadata": {},
     "output_type": "execute_result"
    },
    {
     "data": {
      "text/plain": [
       "<Figure size 2160x1440 with 0 Axes>"
      ]
     },
     "metadata": {},
     "output_type": "display_data"
    },
    {
     "data": {
      "image/png": "[encoded data removed]",
      "text/plain": [
       "<Figure size 432x288 with 1 Axes>"
      ]
     },
     "metadata": {},
     "output_type": "display_data"
    }
   ],
   "source": [
    "test = df_mlp_predict.groupby('filename').median()[['prediction','binary_label']]\n",
    "plt.figure(figsize=(30,20))\n",
    "fig, ax = plt.subplots()\n",
    "ax= sns.boxplot(data=test, x='binary_label', y='prediction', palette={1:'indianred', 0:'royalblue'})\n",
    "ax.set_xticks(range(2))\n",
    "ax.set_xticklabels(['REAL', 'FAKE'])\n",
    "plt.title('Boxplot of Median Prediction per File')\n",
    "plt.xlabel('Ground Truth')\n",
    "plt.ylabel('Prediction (0=Real, 1=Fake)')\n",
    "#plt.savefig(\"figures/median_boxplot_prediction_values.png\", dpi=300)"
   ]
  },
  {
   "cell_type": "code",
   "execution_count": 389,
   "id": "b2c637e4",
   "metadata": {},
   "outputs": [
    {
     "data": {
      "text/plain": [
       "<Figure size 2160x1440 with 0 Axes>"
      ]
     },
     "metadata": {},
     "output_type": "display_data"
    },
    {
     "data": {
      "image/png": "[encoded data removed]",
      "text/plain": [
       "<Figure size 432x288 with 1 Axes>"
      ]
     },
     "metadata": {},
     "output_type": "display_data"
    }
   ],
   "source": [
    "# y = average distance of all landmarks, x = frame\n",
    "d_fake = df_mlp_predict[df_mlp_predict.label == 'FAKE'].reset_index()\n",
    "d_real = df_mlp_predict[df_mlp_predict.label == 'REAL'].reset_index()\n",
    "\n",
    "plt.figure(figsize=(30,20))\n",
    "fig, ax = plt.subplots()\n",
    "ax= sns.lineplot(data=d_fake, x='frame', y='prediction', label='FAKE', estimator=np.median ,markers=True, color='indianred')\n",
    "ax1 = sns.lineplot(data=d_real, x='frame', y='prediction', label='REAL', estimator=np.median, color='royalblue')\n",
    "plt.title('Median Prediction Result of Validation Data per Frame')\n",
    "plt.xlabel('Frame')\n",
    "plt.ylabel('Prediction (0=Real, 1=Fake)')\n",
    "plt.savefig(\"figures/median_prediction_values.png\", dpi=300)"
   ]
  },
  {
   "cell_type": "code",
   "execution_count": 390,
   "id": "003dda43",
   "metadata": {},
   "outputs": [
    {
     "data": {
      "text/plain": [
       "<Figure size 2160x1440 with 0 Axes>"
      ]
     },
     "metadata": {},
     "output_type": "display_data"
    },
    {
     "data": {
      "image/png": "[encoded data removed]",
      "text/plain": [
       "<Figure size 432x288 with 1 Axes>"
      ]
     },
     "metadata": {},
     "output_type": "display_data"
    }
   ],
   "source": [
    "# y = average distance of all landmarks, x = frame\n",
    "d_fake = df_mlp_predict[df_mlp_predict.label == 'FAKE'].reset_index()\n",
    "d_real = df_mlp_predict[df_mlp_predict.label == 'REAL'].reset_index()\n",
    "\n",
    "plt.figure(figsize=(30,20))\n",
    "fig, ax = plt.subplots()\n",
    "ax= sns.lineplot(data=d_fake, x='frame', y='prediction', label='FAKE', markers=True, color='indianred')\n",
    "ax1 = sns.lineplot(data=d_real, x='frame', y='prediction', label='REAL', color='royalblue')\n",
    "plt.title('Prediction Result of Validation Data per Frame')\n",
    "plt.xlabel('Frame')\n",
    "plt.ylabel('Prediction (0=Real, 1=Fake)')\n",
    "plt.savefig(\"figures/prediction_values.png\", dpi=300)"
   ]
  },
  {
   "cell_type": "code",
   "execution_count": 368,
   "id": "8aaacd94",
   "metadata": {},
   "outputs": [
    {
     "data": {
      "text/plain": [
       "301"
      ]
     },
     "execution_count": 368,
     "metadata": {},
     "output_type": "execute_result"
    }
   ],
   "source": [
    "n_max = df_mlp_predict.groupby('filename').size().max()\n",
    "n_max"
   ]
  },
  {
   "cell_type": "code",
   "execution_count": 369,
   "id": "218637c3",
   "metadata": {},
   "outputs": [],
   "source": [
    "svm_input = np.array(list(df_mlp_predict.groupby('filename').prediction.agg(list).apply(lambda x: np.pad(array=x, pad_width=(0,n_max-len(x)), mode='median'))))"
   ]
  },
  {
   "cell_type": "code",
   "execution_count": 370,
   "id": "6c92ea77",
   "metadata": {},
   "outputs": [
    {
     "data": {
      "text/plain": [
       "((7780, 301), (7780,))"
      ]
     },
     "execution_count": 370,
     "metadata": {},
     "output_type": "execute_result"
    }
   ],
   "source": [
    "svm_input.shape, y_svm.shape"
   ]
  },
  {
   "cell_type": "code",
   "execution_count": 27,
   "id": "7df0f250",
   "metadata": {},
   "outputs": [
    {
     "data": {
      "text/plain": [
       "SVC()"
      ]
     },
     "execution_count": 27,
     "metadata": {},
     "output_type": "execute_result"
    }
   ],
   "source": [
    "classifier = svm.SVC(kernel='rbf')\n",
    "classifier.fit(svm_input, y_svm)"
   ]
  },
  {
   "cell_type": "markdown",
   "id": "bd7c0982",
   "metadata": {},
   "source": [
    "### Instead of passing all frame values as feature to SVM (or other classifier) what if instead we passed statistical features\n",
    "- min\n",
    "- std\n",
    "- variance\n",
    "- median \n",
    "- mean\n",
    "- max\n",
    "- range\n",
    "- interquartile range\n",
    "[filename: [min, std, variance, median, mean, max, range, interquartile range]\n",
    "    ...\n",
    "]"
   ]
  },
  {
   "cell_type": "code",
   "execution_count": 415,
   "id": "400d4a83",
   "metadata": {},
   "outputs": [],
   "source": [
    "g = df_mlp_predict.groupby('filename').prediction\n",
    "min_pred = g.agg('min')\n",
    "max_pred = g.agg('max')\n",
    "stddev_pred = g.agg('std')\n",
    "var_pred = g.agg('var')\n",
    "mean_pred = g.agg('mean')\n",
    "median_pred = g.agg('median')\n",
    "range_pred = max_pred - min_pred\n",
    "q25 = g.quantile(0.25)\n",
    "q75 = g.quantile(0.75)\n",
    "iqr_pred = q75-q25"
   ]
  },
  {
   "cell_type": "code",
   "execution_count": 416,
   "id": "700440a8",
   "metadata": {},
   "outputs": [],
   "source": [
    "classifier_input = pd.DataFrame({\n",
    "    'Min': min_pred, \n",
    "    'Max': max_pred,\n",
    "    'Std' : stddev_pred,\n",
    "    'Variance' : var_pred, \n",
    "    'Mean' : mean_pred, \n",
    "    'Median' : median_pred,\n",
    "    'Range' : range_pred,\n",
    "    'IQR' : iqr_pred\n",
    "    })"
   ]
  },
  {
   "cell_type": "code",
   "execution_count": 417,
   "id": "effea724",
   "metadata": {},
   "outputs": [
    {
     "data": {
      "text/plain": [
       "((6224, 8), (6224,))"
      ]
     },
     "execution_count": 417,
     "metadata": {},
     "output_type": "execute_result"
    }
   ],
   "source": [
    "classifier_input.to_numpy()\n",
    "classifier_input.shape, y_classifier.shape"
   ]
  },
  {
   "cell_type": "code",
   "execution_count": 418,
   "id": "7d8992e0",
   "metadata": {},
   "outputs": [
    {
     "data": {
      "text/plain": [
       "KNeighborsClassifier(n_neighbors=50)"
      ]
     },
     "execution_count": 418,
     "metadata": {},
     "output_type": "execute_result"
    }
   ],
   "source": [
    "from sklearn.neighbors import KNeighborsClassifier\n",
    "from sklearn.neighbors import NearestCentroid\n",
    "from sklearn import tree\n",
    "#classifier = svm.SVC()\n",
    "classifier = KNeighborsClassifier(n_neighbors=50)\n",
    "#classifier = RandomForestClassifier()\n",
    "#classifier = tree.DecisionTreeClassifier()\n",
    "#classifier = NearestCentroid()\n",
    "classifier.fit(classifier_input, y_classifier)"
   ]
  },
  {
   "cell_type": "markdown",
   "id": "0a68e231",
   "metadata": {},
   "source": [
    "### Validation Value\n",
    "nn -> SVM"
   ]
  },
  {
   "cell_type": "code",
   "execution_count": 419,
   "id": "9b06068b",
   "metadata": {},
   "outputs": [
    {
     "name": "stdout",
     "output_type": "stream",
     "text": [
      "14459/14459 [==============================] - 16s 1ms/step\n"
     ]
    }
   ],
   "source": [
    "val_predicted = model.predict(X_val, verbose=1)"
   ]
  },
  {
   "cell_type": "code",
   "execution_count": 420,
   "id": "bc8b124b",
   "metadata": {},
   "outputs": [
    {
     "name": "stderr",
     "output_type": "stream",
     "text": [
      "/tmp/ipykernel_4364/309500607.py:1: SettingWithCopyWarning: \n",
      "A value is trying to be set on a copy of a slice from a DataFrame.\n",
      "Try using .loc[row_indexer,col_indexer] = value instead\n",
      "\n",
      "See the caveats in the documentation: https://pandas.pydata.org/pandas-docs/stable/user_guide/indexing.html#returning-a-view-versus-a-copy\n",
      "  df_val['prediction'] = val_predicted[:,1]\n"
     ]
    }
   ],
   "source": [
    "df_val['prediction'] = val_predicted[:,1]"
   ]
  },
  {
   "cell_type": "code",
   "execution_count": 30,
   "id": "a47dedde",
   "metadata": {},
   "outputs": [],
   "source": [
    "df_val = df_val.reset_index()[df_val.reset_index().frame < n_max]\n",
    "df_val = df_val.set_index(['filename', 'frame'])\n",
    "svm_input = np.array(list(df_val.groupby('filename').prediction.agg(list).apply(lambda x: np.pad(array=x, pad_width=(0,n_max-len(x)), mode='median'))))"
   ]
  },
  {
   "cell_type": "code",
   "execution_count": 33,
   "id": "82318629",
   "metadata": {},
   "outputs": [],
   "source": [
    "y_pred = classifier.predict(svm_input)"
   ]
  },
  {
   "cell_type": "code",
   "execution_count": 34,
   "id": "55989853",
   "metadata": {},
   "outputs": [
    {
     "data": {
      "text/plain": [
       "0.7365155131264917"
      ]
     },
     "execution_count": 34,
     "metadata": {},
     "output_type": "execute_result"
    }
   ],
   "source": [
    "accuracy_score(y_val, y_pred)"
   ]
  },
  {
   "cell_type": "code",
   "execution_count": 134,
   "id": "60c4d377",
   "metadata": {},
   "outputs": [
    {
     "data": {
      "text/plain": [
       "array([[ 309,  371],\n",
       "       [ 188, 1227]])"
      ]
     },
     "execution_count": 134,
     "metadata": {},
     "output_type": "execute_result"
    }
   ],
   "source": [
    "confusion_matrix(y_val, y_pred)"
   ]
  },
  {
   "cell_type": "code",
   "execution_count": 299,
   "id": "2e11bb20",
   "metadata": {},
   "outputs": [],
   "source": [
    "# If statistical features are better:"
   ]
  },
  {
   "cell_type": "code",
   "execution_count": 421,
   "id": "02d3881e",
   "metadata": {},
   "outputs": [],
   "source": [
    "g = df_val.groupby('filename').prediction\n",
    "min_pred = g.agg('min')\n",
    "max_pred = g.agg('max')\n",
    "stddev_pred = g.agg('std')\n",
    "var_pred = g.agg('var')\n",
    "mean_pred = g.agg('mean')\n",
    "median_pred = g.agg('median')\n",
    "range_pred = max_pred - min_pred\n",
    "q25 = g.quantile(0.25)\n",
    "q75 = g.quantile(0.75)\n",
    "iqr_pred = q75-q25"
   ]
  },
  {
   "cell_type": "code",
   "execution_count": 422,
   "id": "3768015b",
   "metadata": {},
   "outputs": [],
   "source": [
    "classifier_input = pd.DataFrame({\n",
    "    'Min': min_pred, \n",
    "    'Max': max_pred,\n",
    "    'Std' : stddev_pred,\n",
    "    'Variance' : var_pred, \n",
    "    'Mean' : mean_pred, \n",
    "    'Median' : median_pred,\n",
    "    'Range' : range_pred,\n",
    "    'IQR' : iqr_pred\n",
    "    })"
   ]
  },
  {
   "cell_type": "code",
   "execution_count": 423,
   "id": "e8af7bc6",
   "metadata": {},
   "outputs": [
    {
     "data": {
      "text/plain": [
       "((1557, 8), (1557,))"
      ]
     },
     "execution_count": 423,
     "metadata": {},
     "output_type": "execute_result"
    }
   ],
   "source": [
    "classifier_input.to_numpy()\n",
    "classifier_input.shape, y_val.shape"
   ]
  },
  {
   "cell_type": "code",
   "execution_count": 424,
   "id": "1f98c63d",
   "metadata": {},
   "outputs": [],
   "source": [
    "y_pred = classifier.predict(classifier_input)"
   ]
  },
  {
   "cell_type": "code",
   "execution_count": 425,
   "id": "0f8d88b8",
   "metadata": {},
   "outputs": [
    {
     "data": {
      "text/plain": [
       "0.6814386640976237"
      ]
     },
     "execution_count": 425,
     "metadata": {},
     "output_type": "execute_result"
    }
   ],
   "source": [
    "accuracy_score(y_val, y_pred)"
   ]
  },
  {
   "cell_type": "code",
   "execution_count": 402,
   "id": "3039a73f",
   "metadata": {},
   "outputs": [
    {
     "name": "stdout",
     "output_type": "stream",
     "text": [
      "('              precision    recall  f1-score   support\\n'\n",
      " '\\n'\n",
      " '           0      0.618     0.676     0.646       678\\n'\n",
      " '           1      0.730     0.678     0.703       879\\n'\n",
      " '\\n'\n",
      " '    accuracy                          0.677      1557\\n'\n",
      " '   macro avg      0.674     0.677     0.674      1557\\n'\n",
      " 'weighted avg      0.681     0.677     0.678      1557\\n')\n"
     ]
    }
   ],
   "source": [
    "pprint.pprint(metrics.classification_report(y_val, y_pred, digits=3))\n"
   ]
  },
  {
   "cell_type": "markdown",
   "id": "bc22d760",
   "metadata": {},
   "source": [
    "### Results\n",
    "40/50/10 Split:\n",
    "\n",
    "| Loss Function |Accuracy     | Classifier   | Accuracy     | Precision     | Recall      | F1 Score    |\n",
    "|---------------|-------------|--------------|--------------|---------------|-------------|-------------|\n",
    "| MSE           | 60.4        |              |              |               |             |\n",
    "|               |             |SVM           | 68.5         |62.7/73.7      |68.1/68.7    |65.3/71.1    |\n",
    "|               |             | RandomForest | 68.1         |62.3/73.3      |67.7/68.4    |64.9/70.7    |\n",
    "|               |             |KNN n=50      | 68.9         |63.1/74.2      |68.9/68.9    |65.9/71.5    |\n",
    "| CatCrossEnt   | 60.4        |              |              |               |             |             |\n",
    "|               |             | SVM          | 68.0         |61.8/74.0      |69.6/66.8    |65.5/70.2    |\n",
    "|               |             | RandomForest | 68.5         |64.0/71.8      |63.1/72.6    |63.5/72.2|\n",
    "|               |             | KNN          | 68.0         |63.2/72.8      |66.7/68.9    |64.4/70.8    |\n",
    "| KLD           |60.4         |              |              |               |             |\n",
    "|               |             | SVM          | 68.2         |62.4/73.4      |67.7/68.6    |65.0/70.9    |\n",
    "|               |             | RandomForest | 68.3         |63.2/72.6      |65.5/70.5    |64.3/71.6    |\n",
    "|               |             | KNN          | 68.9         |62.7/**74.9**  |**70.6**/67.6|66.4/71.1|\n",
    "| CosineSimil   |  60.5       |              |              |               |             |\n",
    "|               |             | SVM          | 68.4         |62.5/73.7      |68.4/68.4    |65.4/71.0    |\n",
    "|               |             | RandomForest | 69.0         |64.6/72.3      |63.7/**73.0**|64.1/72.7    |      \n",
    "|               |             | KNN          | 68.4         |62.8/73.3      |67.4/69.2    |65.0/71.2    |\n",
    "| **MSLE**      |**60.9**     |              |              |               |             |\n",
    "|               |             | SVM          | 67.8         | 62.5/72.2     |65.2/69.9    |**72.2**/69.9    |\n",
    "|               |             | RandomForest | 69.7         |**65.1**/73.4  |65.8/72.8    |65.4/**73.1**      \n",
    "|               |             | KNN          | **69.8**     |64.4/74.5      |68.6/70.8    |66.4/72.6\n",
    "\n",
    "\n",
    "\n",
    "\n",
    "\n",
    "\n",
    "Baseline SVM\n",
    "- CrossCategoricalEntropy - \n",
    "- MSE - 60.4% Acc for NN, 68.5% Acc for SVM\n",
    "- Mean Squared Logarithmic Error -  \n",
    "- CosineSimilarity - \n",
    "- KL - "
   ]
  },
  {
   "cell_type": "markdown",
   "id": "cdc64597",
   "metadata": {},
   "source": []
  },
  {
   "cell_type": "markdown",
   "id": "fc181680",
   "metadata": {},
   "source": []
  }
 ],
 "metadata": {
  "kernelspec": {
   "display_name": "Python 3 (ipykernel)",
   "language": "python",
   "name": "python3"
  },
  "language_info": {
   "codemirror_mode": {
    "name": "ipython",
    "version": 3
   },
   "file_extension": ".py",
   "mimetype": "text/x-python",
   "name": "python",
   "nbconvert_exporter": "python",
   "pygments_lexer": "ipython3",
   "version": "3.8.10"
  }
 },
 "nbformat": 4,
 "nbformat_minor": 5
}
